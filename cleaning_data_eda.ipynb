{
 "cells": [
  {
   "cell_type": "code",
   "execution_count": 1,
   "metadata": {},
   "outputs": [],
   "source": [
    "import pandas as pd"
   ]
  },
  {
   "cell_type": "code",
   "execution_count": 2,
   "metadata": {},
   "outputs": [],
   "source": [
    "data = pd.read_csv('eda.csv')"
   ]
  },
  {
   "cell_type": "code",
   "execution_count": 3,
   "metadata": {},
   "outputs": [
    {
     "name": "stdout",
     "output_type": "stream",
     "text": [
      "<class 'pandas.core.frame.DataFrame'>\n",
      "RangeIndex: 3244 entries, 0 to 3243\n",
      "Data columns (total 6 columns):\n",
      " #   Column          Non-Null Count  Dtype  \n",
      "---  ------          --------------  -----  \n",
      " 0   nama_produk     3244 non-null   object \n",
      " 1   harga_produk    3244 non-null   object \n",
      " 2   penjual         3244 non-null   object \n",
      " 3   kota_toko       3244 non-null   object \n",
      " 4   banyak_terjual  3244 non-null   object \n",
      " 5   rating_produk   3244 non-null   float64\n",
      "dtypes: float64(1), object(5)\n",
      "memory usage: 152.2+ KB\n"
     ]
    },
    {
     "data": {
      "text/plain": [
       "(None,\n",
       " nama_produk       0\n",
       " harga_produk      0\n",
       " penjual           0\n",
       " kota_toko         0\n",
       " banyak_terjual    0\n",
       " rating_produk     0\n",
       " dtype: int64)"
      ]
     },
     "execution_count": 3,
     "metadata": {},
     "output_type": "execute_result"
    }
   ],
   "source": [
    "# Menampilkan summary dari data\n",
    "data_summary = data.info()\n",
    "\n",
    "# Cek missing value\n",
    "missing_values = data.isnull().sum()\n",
    "\n",
    "# Tampilkan summary & missing values\n",
    "data_summary, missing_values\n"
   ]
  },
  {
   "cell_type": "code",
   "execution_count": 4,
   "metadata": {},
   "outputs": [
    {
     "name": "stdout",
     "output_type": "stream",
     "text": [
      "<class 'pandas.core.frame.DataFrame'>\n",
      "RangeIndex: 3244 entries, 0 to 3243\n",
      "Data columns (total 6 columns):\n",
      " #   Column          Non-Null Count  Dtype  \n",
      "---  ------          --------------  -----  \n",
      " 0   nama_produk     3244 non-null   object \n",
      " 1   harga_produk    3244 non-null   int64  \n",
      " 2   penjual         3244 non-null   object \n",
      " 3   kota_toko       3244 non-null   object \n",
      " 4   banyak_terjual  3244 non-null   int64  \n",
      " 5   rating_produk   3244 non-null   float64\n",
      "dtypes: float64(1), int64(2), object(3)\n",
      "memory usage: 152.2+ KB\n",
      "                                         nama_produk  harga_produk  \\\n",
      "0  sepatu casual sneakers santai terbaru pria tre...        180000   \n",
      "1  sepatu boots pria gaya baru model fashion tgf2...        275000   \n",
      "2  Kanky Klasik Story Kagayaku - Sepatu Sneakers ...        388800   \n",
      "3  Kanky Story Honjo - Sepatu Sneakers Casual Spo...        318800   \n",
      "4  Aerostreet X Gian 37-44 Putih Biru Tua Oranye ...        229900   \n",
      "\n",
      "          penjual        kota_toko  banyak_terjual  rating_produk  \n",
      "0  Good Father 40  Jakarta Selatan               5            5.0  \n",
      "1  Good Father 40  Jakarta Selatan               4            5.0  \n",
      "2    Sepatu Kanky     Kab. Bandung            2000            4.9  \n",
      "3    Sepatu Kanky     Kab. Bandung           10000            5.0  \n",
      "4      Aerostreet      Kab. Klaten             100            4.9  \n"
     ]
    }
   ],
   "source": [
    "# Mendefinisikan fungsi untuk data terjual bersih\n",
    "def clean_terjual(value):\n",
    "    if type(value) == str:\n",
    "        value = value.replace('+', '').replace('terjual', '').strip()\n",
    "        if 'rb' in value:\n",
    "            value = value.replace('rb', '000')\n",
    "        try:\n",
    "            return int(value)\n",
    "        except ValueError:\n",
    "            return None\n",
    "    return None\n",
    "\n",
    "# Membersihkan kolom 'banyak_terjual'\n",
    "data['banyak_terjual'] = data['banyak_terjual'].apply(clean_terjual)\n",
    "\n",
    "# Merubah Rating Produk menjadi numerik\n",
    "data['rating_produk'] = pd.to_numeric(data['rating_produk'], errors='coerce')\n",
    "\n",
    "# Membersihkan kolom 'Harga Produk'\n",
    "if data['harga_produk'].dtype != 'int64':\n",
    "    data['harga_produk'] = data['harga_produk'].astype(str).str.replace('Rp', '').str.replace('.', '').astype(int)\n",
    "\n",
    "# Cek ulang data bersih\n",
    "cleaned_data_info = data.info()\n",
    "missing_values_after_cleaning = data.isnull().sum()\n",
    "\n",
    "# Tampilkan data bersih\n",
    "print(data.head())"
   ]
  },
  {
   "cell_type": "code",
   "execution_count": 5,
   "metadata": {},
   "outputs": [],
   "source": [
    "data.to_csv(\"cleaned_data_eda.csv\", index=False)"
   ]
  }
 ],
 "metadata": {
  "kernelspec": {
   "display_name": "hacktiv8_ftds",
   "language": "python",
   "name": "python3"
  },
  "language_info": {
   "codemirror_mode": {
    "name": "ipython",
    "version": 3
   },
   "file_extension": ".py",
   "mimetype": "text/x-python",
   "name": "python",
   "nbconvert_exporter": "python",
   "pygments_lexer": "ipython3",
   "version": "3.12.7"
  }
 },
 "nbformat": 4,
 "nbformat_minor": 2
}
